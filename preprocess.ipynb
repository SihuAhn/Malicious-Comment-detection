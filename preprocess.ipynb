{
 "cells": [
  {
   "cell_type": "code",
   "execution_count": 12,
   "metadata": {},
   "outputs": [],
   "source": [
    "def comment2morps(df, what):\n",
    "    pbar = pyprind.ProgBar(1200)\n",
    "    if what == 'nouns':\n",
    "        for i in range(0,len(df['comment'])):\n",
    "            df['comment'][i] = kor_tagger.nouns(df['comment'][i])\n",
    "            if(df['comment'][i])==[]:\n",
    "                continue\n",
    "            temp = df['comment'][i][0]+' '\n",
    "            for j in range(1, len(df['comment'][i])):\n",
    "                temp += df['comment'][i][j]+' '\n",
    "            df['comment'][i] = temp\n",
    "            pbar.update()\n",
    "    elif what == 'morps':\n",
    "        for i in range(0,len(df['comment'])):\n",
    "            df['comment'][i] = kor_tagger.morphs(df['comment'][i])\n",
    "            if(df['comment'][i])==[]:\n",
    "                continue\n",
    "            temp = df['comment'][i][0]+' '\n",
    "            for j in range(1, len(df['comment'][i])):\n",
    "                temp += df['comment'][i][j]+' '\n",
    "            df['comment'][i] = temp\n",
    "            pbar.update()\n",
    "    elif what =='nounsJaso':\n",
    "        for i in range(0,len(df['comment'])):\n",
    "            df['comment'][i] = kor_tagger.nouns(df['comment'][i])\n",
    "            if(df['comment'][i])==[]:\n",
    "                continue\n",
    "            temp = ''\n",
    "            for j in range(0, len(df['comment'][i])):\n",
    "                df['comment'][i][j] = hg.text.decompose(df['comment'][i][j], compose_code = ' ')\n",
    "                temp += df['comment'][i][j]\n",
    "            df['comment'][i] = temp\n",
    "            pbar.update()\n",
    "    elif what == 'morpsJaso':\n",
    "        sulliCommentjaso = pd.read_csv(\"600vs600.sulli.csv\",encoding='CP949')\n",
    "        del sulliCommentjaso['comment']\n",
    "        sulliCommentjaso['jaso'] = '' \n",
    "\n",
    "        for i in range(0,len(df['comment'])):\n",
    "            df['comment'][i] = kor_tagger.morphs(df['comment'][i])\n",
    "            temp = ''\n",
    "            a = list(df['comment'][i][0])\n",
    "            for j in range(0, len(sulliComments['comment'][i])):\n",
    "                df['comment'][i][j] = hg.text.decompose(df['comment'][i][j], compose_code = ' ')\n",
    "                temp += df['comment'][i][j]\n",
    "                a += list(df['comment'][i][j])\n",
    "            sulliCommentjaso['jaso'][i] = a\n",
    "            df['comment'][i] = temp\n",
    "            pbar.update()\n",
    "    return df\n",
    "\n",
    "def df2CSV(df, name):\n",
    "    np.random.seed(0)\n",
    "    df = df.reindex(np.random.permutation(df.index))\n",
    "    df.to_csv((name+'.csv'), index = False, encoding = 'cp949')"
   ]
  },
  {
   "cell_type": "code",
   "execution_count": 20,
   "metadata": {},
   "outputs": [
    {
     "data": {
      "text/html": [
       "<div>\n",
       "<style scoped>\n",
       "    .dataframe tbody tr th:only-of-type {\n",
       "        vertical-align: middle;\n",
       "    }\n",
       "\n",
       "    .dataframe tbody tr th {\n",
       "        vertical-align: top;\n",
       "    }\n",
       "\n",
       "    .dataframe thead th {\n",
       "        text-align: right;\n",
       "    }\n",
       "</style>\n",
       "<table border=\"1\" class=\"dataframe\">\n",
       "  <thead>\n",
       "    <tr style=\"text-align: right;\">\n",
       "      <th></th>\n",
       "      <th>bad</th>\n",
       "      <th>comment</th>\n",
       "    </tr>\n",
       "  </thead>\n",
       "  <tbody>\n",
       "    <tr>\n",
       "      <th>0</th>\n",
       "      <td>0</td>\n",
       "      <td>적어도 ㅈㄲㅈ 보여주고가셧어야죠… 정신병자</td>\n",
       "    </tr>\n",
       "    <tr>\n",
       "      <th>1</th>\n",
       "      <td>0</td>\n",
       "      <td>25살에 인생에 대해서 뭐안다고 비관하지? ㅈㄲㅈ나 보여주지</td>\n",
       "    </tr>\n",
       "    <tr>\n",
       "      <th>2</th>\n",
       "      <td>0</td>\n",
       "      <td>Sm은 필터링 엄청한다는데도 설리같은애가 걸리는구나 ㅋㅋ 관종년 ㅋㅋ</td>\n",
       "    </tr>\n",
       "    <tr>\n",
       "      <th>3</th>\n",
       "      <td>0</td>\n",
       "      <td>가슴 ㅈㄲㅈ 노출하고  페로폰주사맞고 왜해</td>\n",
       "    </tr>\n",
       "    <tr>\n",
       "      <th>4</th>\n",
       "      <td>0</td>\n",
       "      <td>가슴이 있긴 한겨? ㅈㄲㅈ만 있네</td>\n",
       "    </tr>\n",
       "    <tr>\n",
       "      <th>...</th>\n",
       "      <td>...</td>\n",
       "      <td>...</td>\n",
       "    </tr>\n",
       "    <tr>\n",
       "      <th>1195</th>\n",
       "      <td>1</td>\n",
       "      <td>사랑해 설리야 거기선 행복해</td>\n",
       "    </tr>\n",
       "    <tr>\n",
       "      <th>1196</th>\n",
       "      <td>1</td>\n",
       "      <td>설리야 너가 최고야 사랑해</td>\n",
       "    </tr>\n",
       "    <tr>\n",
       "      <th>1197</th>\n",
       "      <td>1</td>\n",
       "      <td>안타깝습니다 사랑합니다</td>\n",
       "    </tr>\n",
       "    <tr>\n",
       "      <th>1198</th>\n",
       "      <td>1</td>\n",
       "      <td>안타깝습니다 화이팅하세요 거기선</td>\n",
       "    </tr>\n",
       "    <tr>\n",
       "      <th>1199</th>\n",
       "      <td>1</td>\n",
       "      <td>안타깝습니다 행복하세요</td>\n",
       "    </tr>\n",
       "  </tbody>\n",
       "</table>\n",
       "<p>1200 rows × 2 columns</p>\n",
       "</div>"
      ],
      "text/plain": [
       "      bad                                 comment\n",
       "0       0                 적어도 ㅈㄲㅈ 보여주고가셧어야죠… 정신병자\n",
       "1       0       25살에 인생에 대해서 뭐안다고 비관하지? ㅈㄲㅈ나 보여주지\n",
       "2       0  Sm은 필터링 엄청한다는데도 설리같은애가 걸리는구나 ㅋㅋ 관종년 ㅋㅋ\n",
       "3       0                 가슴 ㅈㄲㅈ 노출하고  페로폰주사맞고 왜해\n",
       "4       0                      가슴이 있긴 한겨? ㅈㄲㅈ만 있네\n",
       "...   ...                                     ...\n",
       "1195    1                         사랑해 설리야 거기선 행복해\n",
       "1196    1                          설리야 너가 최고야 사랑해\n",
       "1197    1                            안타깝습니다 사랑합니다\n",
       "1198    1                       안타깝습니다 화이팅하세요 거기선\n",
       "1199    1                            안타깝습니다 행복하세요\n",
       "\n",
       "[1200 rows x 2 columns]"
      ]
     },
     "execution_count": 20,
     "metadata": {},
     "output_type": "execute_result"
    }
   ],
   "source": [
    "import hgtk as hg \n",
    "#https://github.com/bluedisk/hangul-toolkit/\n",
    "import konlpy as kn\n",
    "from konlpy.tag import Kkma\n",
    "kor_tagger = Kkma()\n",
    "\n",
    "import pandas as pd\n",
    "import numpy as np\n",
    "import tensorflow as tf\n",
    "import matplotlib.pyplot as plt\n",
    "import pyprind\n",
    "import os"
   ]
  },
  {
   "cell_type": "code",
   "execution_count": 21,
   "metadata": {},
   "outputs": [
    {
     "name": "stderr",
     "output_type": "stream",
     "text": [
      "C:\\Users\\lmgtt\\Anaconda3\\envs\\tensorflow\\lib\\site-packages\\ipykernel_launcher.py:5: SettingWithCopyWarning: \n",
      "A value is trying to be set on a copy of a slice from a DataFrame\n",
      "\n",
      "See the caveats in the documentation: http://pandas.pydata.org/pandas-docs/stable/user_guide/indexing.html#returning-a-view-versus-a-copy\n",
      "  \"\"\"\n",
      "C:\\Users\\lmgtt\\Anaconda3\\envs\\tensorflow\\lib\\site-packages\\ipykernel_launcher.py:11: SettingWithCopyWarning: \n",
      "A value is trying to be set on a copy of a slice from a DataFrame\n",
      "\n",
      "See the caveats in the documentation: http://pandas.pydata.org/pandas-docs/stable/user_guide/indexing.html#returning-a-view-versus-a-copy\n",
      "  # This is added back by InteractiveShellApp.init_path()\n",
      "0% [############################  ] 100% | ETA: 00:00:01"
     ]
    }
   ],
   "source": [
    "sulliComments = pd.read_csv(\"600vs600.sulli.csv\",encoding='CP949')\n",
    "sulliComments_nouns = comment2morps(sulliComments, 'nouns')\n",
    "df2CSV(sulliComments_nouns, 'sulliComments_nouns')"
   ]
  },
  {
   "cell_type": "code",
   "execution_count": 26,
   "metadata": {},
   "outputs": [
    {
     "name": "stderr",
     "output_type": "stream",
     "text": [
      "C:\\Users\\lmgtt\\Anaconda3\\envs\\tensorflow\\lib\\site-packages\\ipykernel_launcher.py:25: SettingWithCopyWarning: \n",
      "A value is trying to be set on a copy of a slice from a DataFrame\n",
      "\n",
      "See the caveats in the documentation: http://pandas.pydata.org/pandas-docs/stable/user_guide/indexing.html#returning-a-view-versus-a-copy\n",
      "C:\\Users\\lmgtt\\Anaconda3\\envs\\tensorflow\\lib\\site-packages\\ipykernel_launcher.py:32: SettingWithCopyWarning: \n",
      "A value is trying to be set on a copy of a slice from a DataFrame\n",
      "\n",
      "See the caveats in the documentation: http://pandas.pydata.org/pandas-docs/stable/user_guide/indexing.html#returning-a-view-versus-a-copy\n",
      "0% [############################  ] 100% | ETA: 00:00:01"
     ]
    }
   ],
   "source": [
    "sulliComments = pd.read_csv(\"600vs600.sulli.csv\",encoding='CP949')\n",
    "sulliComments_nounsJaso = comment2morps(sulliComments, 'nounsJaso')\n",
    "df2CSV(sulliComments_nounsJaso, 'sulliComments_nounsJaso')"
   ]
  },
  {
   "cell_type": "code",
   "execution_count": 27,
   "metadata": {},
   "outputs": [
    {
     "name": "stderr",
     "output_type": "stream",
     "text": [
      "C:\\Users\\lmgtt\\Anaconda3\\envs\\tensorflow\\lib\\site-packages\\ipykernel_launcher.py:15: SettingWithCopyWarning: \n",
      "A value is trying to be set on a copy of a slice from a DataFrame\n",
      "\n",
      "See the caveats in the documentation: http://pandas.pydata.org/pandas-docs/stable/user_guide/indexing.html#returning-a-view-versus-a-copy\n",
      "  from ipykernel import kernelapp as app\n",
      "C:\\Users\\lmgtt\\Anaconda3\\envs\\tensorflow\\lib\\site-packages\\ipykernel_launcher.py:21: SettingWithCopyWarning: \n",
      "A value is trying to be set on a copy of a slice from a DataFrame\n",
      "\n",
      "See the caveats in the documentation: http://pandas.pydata.org/pandas-docs/stable/user_guide/indexing.html#returning-a-view-versus-a-copy\n",
      "0% [##############################] 100% | ETA: 00:00:00\n",
      "Total time elapsed: 00:00:23\n"
     ]
    }
   ],
   "source": [
    "sulliComments = pd.read_csv(\"600vs600.sulli.csv\",encoding='CP949')\n",
    "sulliComments_morps = comment2morps(sulliComments, 'morps')\n",
    "df2CSV(sulliComments_morps, 'sulliComments_morps')"
   ]
  },
  {
   "cell_type": "code",
   "execution_count": 28,
   "metadata": {},
   "outputs": [
    {
     "name": "stderr",
     "output_type": "stream",
     "text": [
      "C:\\Users\\lmgtt\\Anaconda3\\envs\\tensorflow\\lib\\site-packages\\ipykernel_launcher.py:40: SettingWithCopyWarning: \n",
      "A value is trying to be set on a copy of a slice from a DataFrame\n",
      "\n",
      "See the caveats in the documentation: http://pandas.pydata.org/pandas-docs/stable/user_guide/indexing.html#returning-a-view-versus-a-copy\n",
      "C:\\Users\\lmgtt\\Anaconda3\\envs\\tensorflow\\lib\\site-packages\\ipykernel_launcher.py:47: SettingWithCopyWarning: \n",
      "A value is trying to be set on a copy of a slice from a DataFrame\n",
      "\n",
      "See the caveats in the documentation: http://pandas.pydata.org/pandas-docs/stable/user_guide/indexing.html#returning-a-view-versus-a-copy\n",
      "C:\\Users\\lmgtt\\Anaconda3\\envs\\tensorflow\\lib\\site-packages\\ipykernel_launcher.py:48: SettingWithCopyWarning: \n",
      "A value is trying to be set on a copy of a slice from a DataFrame\n",
      "\n",
      "See the caveats in the documentation: http://pandas.pydata.org/pandas-docs/stable/user_guide/indexing.html#returning-a-view-versus-a-copy\n",
      "0% [##############################] 100% | ETA: 00:00:00\n",
      "Total time elapsed: 00:00:25\n"
     ]
    }
   ],
   "source": [
    "sulliComments = pd.read_csv(\"600vs600.sulli.csv\",encoding='CP949')\n",
    "sulliComments_morpsJaso = comment2morps(sulliComments, 'morpsJaso')\n",
    "df2CSV(sulliComments_morpsJaso, 'sulliComments_morpsJaso')"
   ]
  },
  {
   "cell_type": "code",
   "execution_count": null,
   "metadata": {},
   "outputs": [],
   "source": []
  }
 ],
 "metadata": {
  "kernelspec": {
   "display_name": "Python 3",
   "language": "python",
   "name": "python3"
  },
  "language_info": {
   "codemirror_mode": {
    "name": "ipython",
    "version": 3
   },
   "file_extension": ".py",
   "mimetype": "text/x-python",
   "name": "python",
   "nbconvert_exporter": "python",
   "pygments_lexer": "ipython3",
   "version": "3.8.3"
  }
 },
 "nbformat": 4,
 "nbformat_minor": 4
}
